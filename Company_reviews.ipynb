{
  "nbformat": 4,
  "nbformat_minor": 0,
  "metadata": {
    "colab": {
      "provenance": [],
      "machine_shape": "hm",
      "authorship_tag": "ABX9TyM81lBrUYbY0AxxLnx9B5Tw",
      "include_colab_link": true
    },
    "kernelspec": {
      "name": "python3",
      "display_name": "Python 3"
    },
    "language_info": {
      "name": "python"
    }
  },
  "cells": [
    {
      "cell_type": "markdown",
      "metadata": {
        "id": "view-in-github",
        "colab_type": "text"
      },
      "source": [
        "<a href=\"https://colab.research.google.com/github/pgupta7/Company_review_analysis/blob/main/Company_reviews.ipynb\" target=\"_parent\"><img src=\"https://colab.research.google.com/assets/colab-badge.svg\" alt=\"Open In Colab\"/></a>"
      ]
    },
    {
      "cell_type": "markdown",
      "source": [
        "<font color = 'blue'>\n",
        "In this project, we will analyze the reviews given to various companies by their employees. We will use the text of the reviews and create models to determine the rating score from the text. The data consists of two columns, one with review text and the other with ratings in it. <br><br>\n",
        "Since the project is about unsupervised learning, we will primarily create unsupervised learning models to make predictions. Finally, we will use the provided ratings as a test for the fitness of our models' predictions.<br>\n",
        "I took the data from the following source:\n",
        "<a>https://www.kaggle.com/competitions/sentiment-analysis-company-reviews/overview</a>.<br>\n",
        "Besides, I have uploaded this notebook in a public github repository at the following address: <a>https://github.com/pgupta7/Company_review_analysis</a>"
      ],
      "metadata": {
        "id": "P8EeKIJy25eX"
      }
    },
    {
      "cell_type": "markdown",
      "source": [
        "<font color = 'blue'>\n",
        "Downloading the data from the source website"
      ],
      "metadata": {
        "id": "8DrXw1a331Uy"
      }
    },
    {
      "cell_type": "code",
      "source": [
        "company_reviews_path = kagglehub.competition_download('sentiment-analysis-company-reviews')\n",
        "\n",
        "print('Data source import complete.')"
      ],
      "metadata": {
        "colab": {
          "base_uri": "https://localhost:8080/"
        },
        "id": "z_yi7ADo2HGy",
        "outputId": "e70f8177-fee9-42f7-f16f-a19fa4e54948"
      },
      "execution_count": null,
      "outputs": [
        {
          "output_type": "stream",
          "name": "stdout",
          "text": [
            "Data source import complete.\n"
          ]
        }
      ]
    },
    {
      "cell_type": "markdown",
      "source": [
        "<font color = 'blue'>\n",
        "Importing the necessary libraries."
      ],
      "metadata": {
        "id": "MJ2oCP-t378t"
      }
    },
    {
      "cell_type": "code",
      "source": [
        "import pandas as pd\n",
        "import numpy as np\n",
        "import itertools as itr\n",
        "import matplotlib.pyplot as plt\n",
        "import tensorflow as tf\n",
        "\n",
        "from sklearn.feature_extraction.text import TfidfVectorizer, CountVectorizer\n",
        "from sklearn.model_selection import train_test_split\n",
        "from sklearn.metrics import accuracy_score, f1_score\n",
        "from tensorflow.keras.preprocessing.text import Tokenizer\n",
        "from tensorflow.keras.preprocessing.sequence import pad_sequences\n",
        "\n",
        "from sklearn.decomposition import NMF, TruncatedSVD\n",
        "import itertools as itr\n",
        "from sklearn.metrics import accuracy_score\n",
        "import matplotlib.pyplot as plt\n",
        "\n",
        "from sklearn.cluster import KMeans\n",
        "from sklearn.utils import resample\n",
        "\n",
        "from sklearn.cluster import AgglomerativeClustering\n",
        "from sklearn.model_selection import GridSearchCV\n",
        "from tqdm import tqdm"
      ],
      "metadata": {
        "id": "HTUw9k2W2vjw"
      },
      "execution_count": null,
      "outputs": []
    },
    {
      "cell_type": "code",
      "source": [
        "os.listdir(company_reviews_path)"
      ],
      "metadata": {
        "colab": {
          "base_uri": "https://localhost:8080/"
        },
        "id": "1CL1boMB2gpB",
        "outputId": "ae0e7e27-97a9-45f9-899a-e2cdc171d829"
      },
      "execution_count": null,
      "outputs": [
        {
          "output_type": "execute_result",
          "data": {
            "text/plain": [
              "['train.csv', 'sample_submission.csv', 'test.csv']"
            ]
          },
          "metadata": {},
          "execution_count": 145
        }
      ]
    },
    {
      "cell_type": "code",
      "source": [
        "train_df = pd.read_csv(company_reviews_path + '/train.csv')"
      ],
      "metadata": {
        "id": "a7Mh30RZ2zj3"
      },
      "execution_count": null,
      "outputs": []
    },
    {
      "cell_type": "markdown",
      "source": [
        "## Exploratory data analysis"
      ],
      "metadata": {
        "id": "QNdK_EQ84Jad"
      }
    },
    {
      "cell_type": "code",
      "source": [
        "train_df.head()"
      ],
      "metadata": {
        "colab": {
          "base_uri": "https://localhost:8080/",
          "height": 206
        },
        "id": "43jClqTp221N",
        "outputId": "ac258a46-77b5-41a4-9f99-9c03d5191591"
      },
      "execution_count": null,
      "outputs": [
        {
          "output_type": "execute_result",
          "data": {
            "text/plain": [
              "   Id                                             Review  Rating\n",
              "0   0  Very good value and a great tv very happy and ...       5\n",
              "1   1        After 6 month still can't access my account       3\n",
              "2   2  I couldn't make an official review on a produc...       1\n",
              "3   3  Fantastic! Extremely easy to use website, fant...       5\n",
              "4   4  So far annoyed as hell with this bt monthly pa...       1"
            ],
            "text/html": [
              "\n",
              "  <div id=\"df-a5a5655d-9eda-4ba6-860c-ea3b3cde76b0\" class=\"colab-df-container\">\n",
              "    <div>\n",
              "<style scoped>\n",
              "    .dataframe tbody tr th:only-of-type {\n",
              "        vertical-align: middle;\n",
              "    }\n",
              "\n",
              "    .dataframe tbody tr th {\n",
              "        vertical-align: top;\n",
              "    }\n",
              "\n",
              "    .dataframe thead th {\n",
              "        text-align: right;\n",
              "    }\n",
              "</style>\n",
              "<table border=\"1\" class=\"dataframe\">\n",
              "  <thead>\n",
              "    <tr style=\"text-align: right;\">\n",
              "      <th></th>\n",
              "      <th>Id</th>\n",
              "      <th>Review</th>\n",
              "      <th>Rating</th>\n",
              "    </tr>\n",
              "  </thead>\n",
              "  <tbody>\n",
              "    <tr>\n",
              "      <th>0</th>\n",
              "      <td>0</td>\n",
              "      <td>Very good value and a great tv very happy and ...</td>\n",
              "      <td>5</td>\n",
              "    </tr>\n",
              "    <tr>\n",
              "      <th>1</th>\n",
              "      <td>1</td>\n",
              "      <td>After 6 month still can't access my account</td>\n",
              "      <td>3</td>\n",
              "    </tr>\n",
              "    <tr>\n",
              "      <th>2</th>\n",
              "      <td>2</td>\n",
              "      <td>I couldn't make an official review on a produc...</td>\n",
              "      <td>1</td>\n",
              "    </tr>\n",
              "    <tr>\n",
              "      <th>3</th>\n",
              "      <td>3</td>\n",
              "      <td>Fantastic! Extremely easy to use website, fant...</td>\n",
              "      <td>5</td>\n",
              "    </tr>\n",
              "    <tr>\n",
              "      <th>4</th>\n",
              "      <td>4</td>\n",
              "      <td>So far annoyed as hell with this bt monthly pa...</td>\n",
              "      <td>1</td>\n",
              "    </tr>\n",
              "  </tbody>\n",
              "</table>\n",
              "</div>\n",
              "    <div class=\"colab-df-buttons\">\n",
              "\n",
              "  <div class=\"colab-df-container\">\n",
              "    <button class=\"colab-df-convert\" onclick=\"convertToInteractive('df-a5a5655d-9eda-4ba6-860c-ea3b3cde76b0')\"\n",
              "            title=\"Convert this dataframe to an interactive table.\"\n",
              "            style=\"display:none;\">\n",
              "\n",
              "  <svg xmlns=\"http://www.w3.org/2000/svg\" height=\"24px\" viewBox=\"0 -960 960 960\">\n",
              "    <path d=\"M120-120v-720h720v720H120Zm60-500h600v-160H180v160Zm220 220h160v-160H400v160Zm0 220h160v-160H400v160ZM180-400h160v-160H180v160Zm440 0h160v-160H620v160ZM180-180h160v-160H180v160Zm440 0h160v-160H620v160Z\"/>\n",
              "  </svg>\n",
              "    </button>\n",
              "\n",
              "  <style>\n",
              "    .colab-df-container {\n",
              "      display:flex;\n",
              "      gap: 12px;\n",
              "    }\n",
              "\n",
              "    .colab-df-convert {\n",
              "      background-color: #E8F0FE;\n",
              "      border: none;\n",
              "      border-radius: 50%;\n",
              "      cursor: pointer;\n",
              "      display: none;\n",
              "      fill: #1967D2;\n",
              "      height: 32px;\n",
              "      padding: 0 0 0 0;\n",
              "      width: 32px;\n",
              "    }\n",
              "\n",
              "    .colab-df-convert:hover {\n",
              "      background-color: #E2EBFA;\n",
              "      box-shadow: 0px 1px 2px rgba(60, 64, 67, 0.3), 0px 1px 3px 1px rgba(60, 64, 67, 0.15);\n",
              "      fill: #174EA6;\n",
              "    }\n",
              "\n",
              "    .colab-df-buttons div {\n",
              "      margin-bottom: 4px;\n",
              "    }\n",
              "\n",
              "    [theme=dark] .colab-df-convert {\n",
              "      background-color: #3B4455;\n",
              "      fill: #D2E3FC;\n",
              "    }\n",
              "\n",
              "    [theme=dark] .colab-df-convert:hover {\n",
              "      background-color: #434B5C;\n",
              "      box-shadow: 0px 1px 3px 1px rgba(0, 0, 0, 0.15);\n",
              "      filter: drop-shadow(0px 1px 2px rgba(0, 0, 0, 0.3));\n",
              "      fill: #FFFFFF;\n",
              "    }\n",
              "  </style>\n",
              "\n",
              "    <script>\n",
              "      const buttonEl =\n",
              "        document.querySelector('#df-a5a5655d-9eda-4ba6-860c-ea3b3cde76b0 button.colab-df-convert');\n",
              "      buttonEl.style.display =\n",
              "        google.colab.kernel.accessAllowed ? 'block' : 'none';\n",
              "\n",
              "      async function convertToInteractive(key) {\n",
              "        const element = document.querySelector('#df-a5a5655d-9eda-4ba6-860c-ea3b3cde76b0');\n",
              "        const dataTable =\n",
              "          await google.colab.kernel.invokeFunction('convertToInteractive',\n",
              "                                                    [key], {});\n",
              "        if (!dataTable) return;\n",
              "\n",
              "        const docLinkHtml = 'Like what you see? Visit the ' +\n",
              "          '<a target=\"_blank\" href=https://colab.research.google.com/notebooks/data_table.ipynb>data table notebook</a>'\n",
              "          + ' to learn more about interactive tables.';\n",
              "        element.innerHTML = '';\n",
              "        dataTable['output_type'] = 'display_data';\n",
              "        await google.colab.output.renderOutput(dataTable, element);\n",
              "        const docLink = document.createElement('div');\n",
              "        docLink.innerHTML = docLinkHtml;\n",
              "        element.appendChild(docLink);\n",
              "      }\n",
              "    </script>\n",
              "  </div>\n",
              "\n",
              "\n",
              "    <div id=\"df-909f0cc9-b4a8-432c-a93f-3255a96229f8\">\n",
              "      <button class=\"colab-df-quickchart\" onclick=\"quickchart('df-909f0cc9-b4a8-432c-a93f-3255a96229f8')\"\n",
              "                title=\"Suggest charts\"\n",
              "                style=\"display:none;\">\n",
              "\n",
              "<svg xmlns=\"http://www.w3.org/2000/svg\" height=\"24px\"viewBox=\"0 0 24 24\"\n",
              "     width=\"24px\">\n",
              "    <g>\n",
              "        <path d=\"M19 3H5c-1.1 0-2 .9-2 2v14c0 1.1.9 2 2 2h14c1.1 0 2-.9 2-2V5c0-1.1-.9-2-2-2zM9 17H7v-7h2v7zm4 0h-2V7h2v10zm4 0h-2v-4h2v4z\"/>\n",
              "    </g>\n",
              "</svg>\n",
              "      </button>\n",
              "\n",
              "<style>\n",
              "  .colab-df-quickchart {\n",
              "      --bg-color: #E8F0FE;\n",
              "      --fill-color: #1967D2;\n",
              "      --hover-bg-color: #E2EBFA;\n",
              "      --hover-fill-color: #174EA6;\n",
              "      --disabled-fill-color: #AAA;\n",
              "      --disabled-bg-color: #DDD;\n",
              "  }\n",
              "\n",
              "  [theme=dark] .colab-df-quickchart {\n",
              "      --bg-color: #3B4455;\n",
              "      --fill-color: #D2E3FC;\n",
              "      --hover-bg-color: #434B5C;\n",
              "      --hover-fill-color: #FFFFFF;\n",
              "      --disabled-bg-color: #3B4455;\n",
              "      --disabled-fill-color: #666;\n",
              "  }\n",
              "\n",
              "  .colab-df-quickchart {\n",
              "    background-color: var(--bg-color);\n",
              "    border: none;\n",
              "    border-radius: 50%;\n",
              "    cursor: pointer;\n",
              "    display: none;\n",
              "    fill: var(--fill-color);\n",
              "    height: 32px;\n",
              "    padding: 0;\n",
              "    width: 32px;\n",
              "  }\n",
              "\n",
              "  .colab-df-quickchart:hover {\n",
              "    background-color: var(--hover-bg-color);\n",
              "    box-shadow: 0 1px 2px rgba(60, 64, 67, 0.3), 0 1px 3px 1px rgba(60, 64, 67, 0.15);\n",
              "    fill: var(--button-hover-fill-color);\n",
              "  }\n",
              "\n",
              "  .colab-df-quickchart-complete:disabled,\n",
              "  .colab-df-quickchart-complete:disabled:hover {\n",
              "    background-color: var(--disabled-bg-color);\n",
              "    fill: var(--disabled-fill-color);\n",
              "    box-shadow: none;\n",
              "  }\n",
              "\n",
              "  .colab-df-spinner {\n",
              "    border: 2px solid var(--fill-color);\n",
              "    border-color: transparent;\n",
              "    border-bottom-color: var(--fill-color);\n",
              "    animation:\n",
              "      spin 1s steps(1) infinite;\n",
              "  }\n",
              "\n",
              "  @keyframes spin {\n",
              "    0% {\n",
              "      border-color: transparent;\n",
              "      border-bottom-color: var(--fill-color);\n",
              "      border-left-color: var(--fill-color);\n",
              "    }\n",
              "    20% {\n",
              "      border-color: transparent;\n",
              "      border-left-color: var(--fill-color);\n",
              "      border-top-color: var(--fill-color);\n",
              "    }\n",
              "    30% {\n",
              "      border-color: transparent;\n",
              "      border-left-color: var(--fill-color);\n",
              "      border-top-color: var(--fill-color);\n",
              "      border-right-color: var(--fill-color);\n",
              "    }\n",
              "    40% {\n",
              "      border-color: transparent;\n",
              "      border-right-color: var(--fill-color);\n",
              "      border-top-color: var(--fill-color);\n",
              "    }\n",
              "    60% {\n",
              "      border-color: transparent;\n",
              "      border-right-color: var(--fill-color);\n",
              "    }\n",
              "    80% {\n",
              "      border-color: transparent;\n",
              "      border-right-color: var(--fill-color);\n",
              "      border-bottom-color: var(--fill-color);\n",
              "    }\n",
              "    90% {\n",
              "      border-color: transparent;\n",
              "      border-bottom-color: var(--fill-color);\n",
              "    }\n",
              "  }\n",
              "</style>\n",
              "\n",
              "      <script>\n",
              "        async function quickchart(key) {\n",
              "          const quickchartButtonEl =\n",
              "            document.querySelector('#' + key + ' button');\n",
              "          quickchartButtonEl.disabled = true;  // To prevent multiple clicks.\n",
              "          quickchartButtonEl.classList.add('colab-df-spinner');\n",
              "          try {\n",
              "            const charts = await google.colab.kernel.invokeFunction(\n",
              "                'suggestCharts', [key], {});\n",
              "          } catch (error) {\n",
              "            console.error('Error during call to suggestCharts:', error);\n",
              "          }\n",
              "          quickchartButtonEl.classList.remove('colab-df-spinner');\n",
              "          quickchartButtonEl.classList.add('colab-df-quickchart-complete');\n",
              "        }\n",
              "        (() => {\n",
              "          let quickchartButtonEl =\n",
              "            document.querySelector('#df-909f0cc9-b4a8-432c-a93f-3255a96229f8 button');\n",
              "          quickchartButtonEl.style.display =\n",
              "            google.colab.kernel.accessAllowed ? 'block' : 'none';\n",
              "        })();\n",
              "      </script>\n",
              "    </div>\n",
              "\n",
              "    </div>\n",
              "  </div>\n"
            ],
            "application/vnd.google.colaboratory.intrinsic+json": {
              "type": "dataframe",
              "variable_name": "train_df",
              "summary": "{\n  \"name\": \"train_df\",\n  \"rows\": 60000,\n  \"fields\": [\n    {\n      \"column\": \"Id\",\n      \"properties\": {\n        \"dtype\": \"number\",\n        \"std\": 17320,\n        \"min\": 0,\n        \"max\": 59999,\n        \"num_unique_values\": 60000,\n        \"samples\": [\n          12628,\n          37730,\n          39991\n        ],\n        \"semantic_type\": \"\",\n        \"description\": \"\"\n      }\n    },\n    {\n      \"column\": \"Review\",\n      \"properties\": {\n        \"dtype\": \"string\",\n        \"num_unique_values\": 59976,\n        \"samples\": [\n          \"I placed an order to upgrade from standard broadband to Fibre in September 2021. Engineer turned up as arranged on 3rd October and installed my home connection but then told me that he couldn't do the outside work and connect it as the telegraph pole could not have additional equipment added to it. I called BT the day before the work to replace was scheduled. It was was due to be done on 19th November. Open Reach didn't turn up. My arranged customer service call from BT on 22nd November for an update didn't materialise. I chased them on Friday 26th November to be told - 'GREAT NEWS, the work will be done TODAY'. I think this was probably made up by the call centre person as they didn't turn up to replace the pole. I have not heard anything since. Appaling service - Avoid BT.\",\n          \"Not much to say other than it was made easy from start to finish and very fast payment\",\n          \"I am always impressed impressed with the print quality of the cards. However, a few times when I have ordered I haven\\u2019t been sent enough envelopes for my cards which is quite frustrating.\"\n        ],\n        \"semantic_type\": \"\",\n        \"description\": \"\"\n      }\n    },\n    {\n      \"column\": \"Rating\",\n      \"properties\": {\n        \"dtype\": \"number\",\n        \"std\": 1,\n        \"min\": 1,\n        \"max\": 5,\n        \"num_unique_values\": 5,\n        \"samples\": [\n          3,\n          2,\n          1\n        ],\n        \"semantic_type\": \"\",\n        \"description\": \"\"\n      }\n    }\n  ]\n}"
            }
          },
          "metadata": {},
          "execution_count": 147
        }
      ]
    },
    {
      "cell_type": "code",
      "source": [
        "train_df.shape"
      ],
      "metadata": {
        "colab": {
          "base_uri": "https://localhost:8080/"
        },
        "id": "dZ8u-dtl27Qg",
        "outputId": "6a6558ca-fcef-475a-c053-db23f96f88f0"
      },
      "execution_count": null,
      "outputs": [
        {
          "output_type": "execute_result",
          "data": {
            "text/plain": [
              "(60000, 3)"
            ]
          },
          "metadata": {},
          "execution_count": 148
        }
      ]
    },
    {
      "cell_type": "markdown",
      "source": [
        "<font color = 'blue'>\n",
        "We have 60000 reviews on which we can train and test the models."
      ],
      "metadata": {
        "id": "ZJjaiy2G4VT_"
      }
    },
    {
      "cell_type": "markdown",
      "source": [
        "<font color = 'blue'>\n",
        "Checking the distribution of ratings."
      ],
      "metadata": {
        "id": "8jE2a-Ss4mcF"
      }
    },
    {
      "cell_type": "code",
      "source": [
        "train_df['Rating'].value_counts()"
      ],
      "metadata": {
        "colab": {
          "base_uri": "https://localhost:8080/",
          "height": 272
        },
        "id": "LTUck1Gi4-zA",
        "outputId": "e378dfe1-c56f-482c-ec5f-81cc86eb1271"
      },
      "execution_count": null,
      "outputs": [
        {
          "output_type": "execute_result",
          "data": {
            "text/plain": [
              "Rating\n",
              "5    34679\n",
              "1    18663\n",
              "4     3350\n",
              "3     1679\n",
              "2     1629\n",
              "Name: count, dtype: int64"
            ],
            "text/html": [
              "<div>\n",
              "<style scoped>\n",
              "    .dataframe tbody tr th:only-of-type {\n",
              "        vertical-align: middle;\n",
              "    }\n",
              "\n",
              "    .dataframe tbody tr th {\n",
              "        vertical-align: top;\n",
              "    }\n",
              "\n",
              "    .dataframe thead th {\n",
              "        text-align: right;\n",
              "    }\n",
              "</style>\n",
              "<table border=\"1\" class=\"dataframe\">\n",
              "  <thead>\n",
              "    <tr style=\"text-align: right;\">\n",
              "      <th></th>\n",
              "      <th>count</th>\n",
              "    </tr>\n",
              "    <tr>\n",
              "      <th>Rating</th>\n",
              "      <th></th>\n",
              "    </tr>\n",
              "  </thead>\n",
              "  <tbody>\n",
              "    <tr>\n",
              "      <th>5</th>\n",
              "      <td>34679</td>\n",
              "    </tr>\n",
              "    <tr>\n",
              "      <th>1</th>\n",
              "      <td>18663</td>\n",
              "    </tr>\n",
              "    <tr>\n",
              "      <th>4</th>\n",
              "      <td>3350</td>\n",
              "    </tr>\n",
              "    <tr>\n",
              "      <th>3</th>\n",
              "      <td>1679</td>\n",
              "    </tr>\n",
              "    <tr>\n",
              "      <th>2</th>\n",
              "      <td>1629</td>\n",
              "    </tr>\n",
              "  </tbody>\n",
              "</table>\n",
              "</div><br><label><b>dtype:</b> int64</label>"
            ]
          },
          "metadata": {},
          "execution_count": 149
        }
      ]
    },
    {
      "cell_type": "code",
      "source": [
        "train_df['Rating'].hist(density = True)"
      ],
      "metadata": {
        "colab": {
          "base_uri": "https://localhost:8080/",
          "height": 447
        },
        "id": "EhOwhToI2-9I",
        "outputId": "7bb47957-151a-4d21-86cb-a5bca56861a0"
      },
      "execution_count": null,
      "outputs": [
        {
          "output_type": "execute_result",
          "data": {
            "text/plain": [
              "<Axes: >"
            ]
          },
          "metadata": {},
          "execution_count": 150
        },
        {
          "output_type": "display_data",
          "data": {
            "text/plain": [
              "<Figure size 640x480 with 1 Axes>"
            ],
            "image/png": "[encoded data removed]"
          },
          "metadata": {}
        }
      ]
    },
    {
      "cell_type": "markdown",
      "source": [
        "<font color ='blue'>\n",
        "Since the dataset is skewed with more reviews being either 5 star and 1 star, and very few being in the middle, we will use F1 score in addition to accuracy as our metrics. The F1 score is suitable to capture the goodness of prediction of the low frequency labels."
      ],
      "metadata": {
        "id": "gO93jVitj0rl"
      }
    },
    {
      "cell_type": "markdown",
      "source": [
        "<font color = 'blue'>\n",
        "Checking for NANs."
      ],
      "metadata": {
        "id": "c0vuuRZQ5YJd"
      }
    },
    {
      "cell_type": "code",
      "source": [
        "train_df.isna().sum()"
      ],
      "metadata": {
        "colab": {
          "base_uri": "https://localhost:8080/",
          "height": 178
        },
        "id": "eAo785hp5MpU",
        "outputId": "b17e8d8e-69a8-4e4b-8a2e-f21afb4b9be7"
      },
      "execution_count": null,
      "outputs": [
        {
          "output_type": "execute_result",
          "data": {
            "text/plain": [
              "Id        0\n",
              "Review    0\n",
              "Rating    0\n",
              "dtype: int64"
            ],
            "text/html": [
              "<div>\n",
              "<style scoped>\n",
              "    .dataframe tbody tr th:only-of-type {\n",
              "        vertical-align: middle;\n",
              "    }\n",
              "\n",
              "    .dataframe tbody tr th {\n",
              "        vertical-align: top;\n",
              "    }\n",
              "\n",
              "    .dataframe thead th {\n",
              "        text-align: right;\n",
              "    }\n",
              "</style>\n",
              "<table border=\"1\" class=\"dataframe\">\n",
              "  <thead>\n",
              "    <tr style=\"text-align: right;\">\n",
              "      <th></th>\n",
              "      <th>0</th>\n",
              "    </tr>\n",
              "  </thead>\n",
              "  <tbody>\n",
              "    <tr>\n",
              "      <th>Id</th>\n",
              "      <td>0</td>\n",
              "    </tr>\n",
              "    <tr>\n",
              "      <th>Review</th>\n",
              "      <td>0</td>\n",
              "    </tr>\n",
              "    <tr>\n",
              "      <th>Rating</th>\n",
              "      <td>0</td>\n",
              "    </tr>\n",
              "  </tbody>\n",
              "</table>\n",
              "</div><br><label><b>dtype:</b> int64</label>"
            ]
          },
          "metadata": {},
          "execution_count": 151
        }
      ]
    },
    {
      "cell_type": "markdown",
      "source": [
        "## Data cleaning"
      ],
      "metadata": {
        "id": "kGpqDVwc3HXW"
      }
    },
    {
      "cell_type": "markdown",
      "source": [
        "<font color = 'blue'>\n",
        "Downloading the necessary libraries for the data cleaning."
      ],
      "metadata": {
        "id": "PTvfn6Rfd8yF"
      }
    },
    {
      "cell_type": "code",
      "source": [
        "import nltk\n",
        "nltk.download('stopwords')\n",
        "from nltk.corpus import stopwords\n",
        "nltk.download('wordnet')\n",
        "from nltk.stem import WordNetLemmatizer\n",
        "\n",
        "# need to unzip the wordnet manually after this\n",
        "!unzip /root/nltk_data/corpora/wordnet.zip -d /root/nltk_data/corpora/"
      ],
      "metadata": {
        "colab": {
          "base_uri": "https://localhost:8080/"
        },
        "id": "NmneBA1i3CvE",
        "outputId": "a5d75325-4e64-461b-8831-1c4a777fe02f"
      },
      "execution_count": null,
      "outputs": [
        {
          "output_type": "stream",
          "name": "stderr",
          "text": [
            "[nltk_data] Downloading package stopwords to /root/nltk_data...\n",
            "[nltk_data]   Package stopwords is already up-to-date!\n",
            "[nltk_data] Downloading package wordnet to /root/nltk_data...\n",
            "[nltk_data]   Package wordnet is already up-to-date!\n"
          ]
        },
        {
          "output_type": "stream",
          "name": "stdout",
          "text": [
            "Archive:  /root/nltk_data/corpora/wordnet.zip\n",
            "replace /root/nltk_data/corpora/wordnet/lexnames? [y]es, [n]o, [A]ll, [N]one, [r]ename: "
          ]
        }
      ]
    },
    {
      "cell_type": "markdown",
      "source": [
        "<font color = 'blue'>\n",
        "Next, we will clean the review texts and make them appropriate for data analysis.\n",
        "First, we will convert all the text to lowercase, as the case of the letters should be immaterial to the content. Next, remove any urls, if they are present, although unlikely in reviews. Lastly, we will remove any special characters from the reviews."
      ],
      "metadata": {
        "id": "d1aTgEDViMIS"
      }
    },
    {
      "cell_type": "code",
      "source": [
        "import re\n",
        "def cleanText(text):\n",
        "    # lower-casing the text\n",
        "    text = text.lower()\n",
        "    # clean for any url\n",
        "    text = re.sub('https:\\S+|http:\\S+|www.\\S+', '',text)\n",
        "    # clean for any special characters\n",
        "    text = re.sub('[^a-zA-z\\s]','', text)\n",
        "    return text"
      ],
      "metadata": {
        "id": "p8aLyMO53K7z"
      },
      "execution_count": null,
      "outputs": []
    },
    {
      "cell_type": "markdown",
      "source": [
        "<font color = 'blue'>\n",
        "Next, we will remove any stopwords from the review text, i.e., common use words like personal pronous(I, we, us, etc.) and supportive verbs (is, am, would, etc.). We will also lemmatize the text, meaning we will reduce different forms of a word to the root word. For example, we will eliminate the singulars and plurals with the singular form.\n",
        "The process of removing the stopwords and lemmatization reduces the size of the reviews by removing words which likely do not help with classification."
      ],
      "metadata": {
        "id": "z7Tf8ZzEirF9"
      }
    },
    {
      "cell_type": "code",
      "source": [
        "stpwrds = set(stopwords.words('english'))\n",
        "# Declaring a lammatizer.\n",
        "lemmatizer = WordNetLemmatizer()\n",
        "def lemmatizeText(text):\n",
        "    # Lemmatizing the text\n",
        "    words = text.split()\n",
        "    words = [lemmatizer.lemmatize(x) for x in words if x not in stpwrds]\n",
        "    return ' '.join(words)"
      ],
      "metadata": {
        "id": "c68MfEZb3LrG"
      },
      "execution_count": null,
      "outputs": []
    },
    {
      "cell_type": "markdown",
      "source": [
        "<font color = 'blue'>\n",
        "Given the constraint of the RAM, the available computing power, and the time for the project, we will use 3000 reviews from the dataset to make predictions and training. I tried with more reviews, but the system became significantly slow for higher values, so I had to settle down with 3000."
      ],
      "metadata": {
        "id": "gGnnBfJyeKxI"
      }
    },
    {
      "cell_type": "code",
      "source": [
        "train_df = train_df.sample(n = 3000).reset_index(drop=True)\n",
        "X = train_df['Review']\n",
        "# Cleaning and Lemmatizing the text.\n",
        "X = list(map(lambda x: cleanText(x), X))\n",
        "X = list(map(lambda x: lemmatizeText(x), X))\n",
        "X = np.array(X)\n",
        "y = np.array(train_df['Rating'])"
      ],
      "metadata": {
        "id": "nEyaMUna3Pdl"
      },
      "execution_count": null,
      "outputs": []
    },
    {
      "cell_type": "markdown",
      "source": [
        "## Vectorization"
      ],
      "metadata": {
        "id": "3AjH87Rb3dl7"
      }
    },
    {
      "cell_type": "markdown",
      "source": [
        "<font color = 'blue'>\n",
        "Before we perform an analysis to determine the categories of the entities in the dataset, we must express the words in each of the entities as numerics, or in the language of NLP, we will perform word embeddings.<br><br>\n",
        "Below, I use the TF-IFD vectorizer to create a matrix form of word embeddings. A TF-IFD vector balances term frequency (TF) and inverse document frequency (IFD) to provide a numeric value. Term frequency of a given word within a document is defined by the number of instances of the word as a fraction of total number of words in the document. TF has potential to inflate the importance of common words like 'the', 'of', etc., which aren't much useful in categorizing a document. Hence, the vectrorizer uses IDF to compensate for this issue. IDF computes the inverse frequency of a given word accross multiple documents, thus increasing the weight of rare words accross documents while decreaing the importance of common words accross documents, for example, 'the', 'of', etc., which are common across documents, get deemphasized. The TF-IFD value of a given word is given by TF * IFD."
      ],
      "metadata": {
        "id": "pdI8SQ7mgXoE"
      }
    },
    {
      "cell_type": "code",
      "source": [
        "# Creating the vectorizer\n",
        "vectorizer = TfidfVectorizer(stop_words=\"english\", max_features= None).fit(X)"
      ],
      "metadata": {
        "id": "uq2Wz8vH3a_w"
      },
      "execution_count": null,
      "outputs": []
    },
    {
      "cell_type": "code",
      "source": [
        "# Transforming the data\n",
        "X = vectorizer.transform(X).toarray()"
      ],
      "metadata": {
        "id": "ug12-grH3iuy"
      },
      "execution_count": null,
      "outputs": []
    },
    {
      "cell_type": "code",
      "source": [
        "X.shape"
      ],
      "metadata": {
        "colab": {
          "base_uri": "https://localhost:8080/"
        },
        "id": "guvph_CQ6DPd",
        "outputId": "717a4be7-fc81-46f7-ca09-8040fab94525"
      },
      "execution_count": null,
      "outputs": [
        {
          "output_type": "execute_result",
          "data": {
            "text/plain": [
              "(3000, 6652)"
            ]
          },
          "metadata": {},
          "execution_count": 159
        }
      ]
    },
    {
      "cell_type": "markdown",
      "source": [
        "<font color = 'blue'>\n",
        "Plotting all the values of the vectorized dataset to check for the distribution of values."
      ],
      "metadata": {
        "id": "w_2yVhXs9Ofc"
      }
    },
    {
      "cell_type": "code",
      "source": [
        "plt.plot(X.flatten())"
      ],
      "metadata": {
        "colab": {
          "base_uri": "https://localhost:8080/",
          "height": 465
        },
        "id": "IylWwqVElw2r",
        "outputId": "96e664db-7a75-4bb3-a803-eedc94e17f12"
      },
      "execution_count": null,
      "outputs": [
        {
          "output_type": "execute_result",
          "data": {
            "text/plain": [
              "[<matplotlib.lines.Line2D at 0x78e2ba24e610>]"
            ]
          },
          "metadata": {},
          "execution_count": 163
        },
        {
          "output_type": "display_data",
          "data": {
            "text/plain": [
              "<Figure size 640x480 with 1 Axes>"
            ],
            "image/png": "[encoded data removed]"
          },
          "metadata": {}
        }
      ]
    },
    {
      "cell_type": "markdown",
      "source": [
        "<font color = 'blue'>\n",
        "The above plot of all the values of X shows that it has a hard minimum bound at 0, with numbers reaching upto 1. This will have consequences in what methods we choose in subsequent sections for data analysis."
      ],
      "metadata": {
        "id": "iLtHz1KOmAAm"
      }
    },
    {
      "cell_type": "markdown",
      "source": [
        "<font color = 'blue'>\n",
        "Splitting the data into a training and a test dataset."
      ],
      "metadata": {
        "id": "kwZtvcClBWM_"
      }
    },
    {
      "cell_type": "code",
      "source": [
        "# Test-train split\n",
        "X_train, X_test, y_train, y_test = train_test_split(X, y, test_size=0.3, random_state=42)"
      ],
      "metadata": {
        "id": "HEGHlkQ43l1Y"
      },
      "execution_count": null,
      "outputs": []
    },
    {
      "cell_type": "code",
      "source": [
        "X_train.shape"
      ],
      "metadata": {
        "colab": {
          "base_uri": "https://localhost:8080/"
        },
        "id": "osMxY-0Y96o4",
        "outputId": "fabb1ecf-2c2b-49e4-d01e-ecfc47e9c532"
      },
      "execution_count": null,
      "outputs": [
        {
          "output_type": "execute_result",
          "data": {
            "text/plain": [
              "(2100, 6652)"
            ]
          },
          "metadata": {},
          "execution_count": 161
        }
      ]
    },
    {
      "cell_type": "markdown",
      "source": [
        "<font color = 'blue'>\n",
        "Checking the disctribution of both the train and the test set."
      ],
      "metadata": {
        "id": "AdRvdNN685FH"
      }
    },
    {
      "cell_type": "code",
      "source": [
        "plt.hist(y_train, edgecolor = 'black', alpha = 0.4, density = True)\n",
        "plt.hist(y_test, edgecolor = 'black', alpha = 0.4, density = True)"
      ],
      "metadata": {
        "colab": {
          "base_uri": "https://localhost:8080/",
          "height": 499
        },
        "id": "JYj-vPvGRp56",
        "outputId": "794ce0be-6104-400d-fc6a-91dea58c323f"
      },
      "execution_count": null,
      "outputs": [
        {
          "output_type": "execute_result",
          "data": {
            "text/plain": [
              "(array([0.76388889, 0.        , 0.06666667, 0.        , 0.        ,\n",
              "        0.07777778, 0.        , 0.13055556, 0.        , 1.46111111]),\n",
              " array([1. , 1.4, 1.8, 2.2, 2.6, 3. , 3.4, 3.8, 4.2, 4.6, 5. ]),\n",
              " <BarContainer object of 10 artists>)"
            ]
          },
          "metadata": {},
          "execution_count": 162
        },
        {
          "output_type": "display_data",
          "data": {
            "text/plain": [
              "<Figure size 640x480 with 1 Axes>"
            ],
            "image/png": "[encoded data removed]"
          },
          "metadata": {}
        }
      ]
    },
    {
      "cell_type": "markdown",
      "source": [
        "#Models"
      ],
      "metadata": {
        "id": "KCN6jqK_kZYx"
      }
    },
    {
      "cell_type": "markdown",
      "source": [
        "## Non-negative matrix factorization(NMF)"
      ],
      "metadata": {
        "id": "tdUvYHag3q_J"
      }
    },
    {
      "cell_type": "markdown",
      "source": [
        "<font color = 'blue'>\n",
        "Since the matrix X is a non-negative one, we will use the method of non-negative matrix factorization to model the data. We will factor the matrix X into two matrices W and H. The W matrix will have equal number of rows as X, but will only have 5 columns. We choose 5 columns to represent them as the 5 ratings we have."
      ],
      "metadata": {
        "id": "hnuHVadQoChr"
      }
    },
    {
      "cell_type": "markdown",
      "source": [
        "<font color = 'blue'>\n",
        "Furthermore, since our training data is disctributed with low positive values, we will use kullback-leibler as our beta loss while solving for the matrix factors. The kullback-leibler loss treats the values as poisson distributed and thus avoids negative numbers during the fit."
      ],
      "metadata": {
        "id": "yZgK3vyKmbOt"
      }
    },
    {
      "cell_type": "code",
      "source": [
        "nmf = NMF(n_components= 5, beta_loss= 'kullback-leibler', solver = 'mu', alpha_W= 0.3, alpha_H = 0.3).fit(X_train)"
      ],
      "metadata": {
        "id": "joEYkN8F3qPC"
      },
      "execution_count": null,
      "outputs": []
    },
    {
      "cell_type": "code",
      "source": [
        "w_train = nmf.transform(X_train)\n",
        "w_test = nmf.transform(X_test)"
      ],
      "metadata": {
        "id": "ut3YE-u5_IIG"
      },
      "execution_count": null,
      "outputs": []
    },
    {
      "cell_type": "markdown",
      "source": [
        "<font color = 'blue'>\n",
        "We take the index of the maximum value along a row as the predicted rating for a given row of X, which represents a particular review."
      ],
      "metadata": {
        "id": "wGy8a1t9pCII"
      }
    },
    {
      "cell_type": "code",
      "source": [
        "y_train_pred = np.argmax(w_train, axis = 1)\n",
        "y_test_pred = np.argmax(w_test, axis = 1)"
      ],
      "metadata": {
        "id": "r9ExVKnA33me"
      },
      "execution_count": null,
      "outputs": []
    },
    {
      "cell_type": "markdown",
      "source": [
        "<font color = 'blue'>\n",
        "We note that the labels 1,2,3,4, and 5 provided by the model in the predicted values are arbitrary and bear no relation to the actuals values of rating in the dataset. We will have to identify the correct labels. To do so, we replace the labels in the predicted values with all the different combinations of the sequence of labels. The sequence of labels that gives the best accuracy for the predicted values would be the correct sequence of labels, in conformity to the actual ratings in the data.<br>\n",
        "The below helper function, gettag, helps us do this. We will use this function on the predicted values of all the unsupervised learning models."
      ],
      "metadata": {
        "id": "nm5oaYLYae07"
      }
    },
    {
      "cell_type": "code",
      "source": [
        "def gettag(y_true, y_pred):\n",
        "  # different permutations of the labels\n",
        "  tags = list((itr.permutations(range(1, 6))))\n",
        "  def calcacc(tag):\n",
        "      pred = np.vectorize(lambda x: tag[x - 1])(y_pred)\n",
        "      acc = accuracy_score(y_true, pred)\n",
        "      return acc\n",
        "  # iterating over all the different permutations of the labels.\n",
        "  accs = list(map(calcacc, tags))\n",
        "  ind = np.argmax(accs)\n",
        "  return tags[ind]"
      ],
      "metadata": {
        "id": "zV_OiCAJ-WcX"
      },
      "execution_count": null,
      "outputs": []
    },
    {
      "cell_type": "code",
      "source": [
        "# getting the correct sequence of labels\n",
        "tag = gettag(y_train, y_train_pred)\n",
        "# Replacing the labels in the predicted values to the correct ones found in the previous line.\n",
        "y_train_pred = np.vectorize(lambda x: tag[x - 1])(y_train_pred)\n",
        "print('train accurcay:', accuracy_score(y_train, y_train_pred))\n",
        "y_test_pred = np.vectorize(lambda x: tag[x - 1])(y_test_pred)\n",
        "print('test accurcay:', accuracy_score(y_test, y_test_pred))"
      ],
      "metadata": {
        "colab": {
          "base_uri": "https://localhost:8080/"
        },
        "id": "htra7XBV_wkw",
        "outputId": "3e243b7e-7a49-4dbf-e966-24b9c8e503db"
      },
      "execution_count": null,
      "outputs": [
        {
          "output_type": "stream",
          "name": "stdout",
          "text": [
            "train accurcay: 0.6557142857142857\n",
            "test accurcay: 0.7655555555555555\n"
          ]
        }
      ]
    },
    {
      "cell_type": "markdown",
      "source": [
        "<font color = 'blue'>\n",
        "Plot showing the distribuition of the true and the predicted ratings."
      ],
      "metadata": {
        "id": "Ik7ffu4KYpQw"
      }
    },
    {
      "cell_type": "code",
      "source": [
        "plt.hist(y_train, label = 'y_train', density = True, color = 'orange',\n",
        "           edgecolor = 'black', alpha = 0.4)\n",
        "plt.hist(y_train_pred, label = 'y_train_pred',\n",
        "           density = True, color = 'blue', edgecolor = 'black', alpha = 0.2)\n",
        "plt.legend()"
      ],
      "metadata": {
        "colab": {
          "base_uri": "https://localhost:8080/",
          "height": 447
        },
        "id": "QXsIhkjeDoci",
        "outputId": "f152411a-9161-44c3-a949-e5ae288813da"
      },
      "execution_count": null,
      "outputs": [
        {
          "output_type": "execute_result",
          "data": {
            "text/plain": [
              "<matplotlib.legend.Legend at 0x78e2baeffc90>"
            ]
          },
          "metadata": {},
          "execution_count": 185
        },
        {
          "output_type": "display_data",
          "data": {
            "text/plain": [
              "<Figure size 640x480 with 1 Axes>"
            ],
            "image/png": "[encoded data removed]"
          },
          "metadata": {}
        }
      ]
    },
    {
      "cell_type": "markdown",
      "source": [
        "<font color = 'blue'>\n",
        "We can see that the distribution of the predicted and the true values is quite different for the intermediate values of 2, 3, and 4 ratings, implying a possiblity of very low f1 score. We will calculate the F1 score below and check the actual numbers."
      ],
      "metadata": {
        "id": "L0Q1F5c8YzBk"
      }
    },
    {
      "cell_type": "markdown",
      "source": [
        "<font color = 'blue'>\n",
        "A helper function to get the F1 scores on the predictions.<br>\n",
        "The below function computes the F1 scores for each of the rating values, and then also computes the mean of all the F1 scores."
      ],
      "metadata": {
        "id": "-tPuVr1C2QKP"
      }
    },
    {
      "cell_type": "code",
      "source": [
        "def getF1Score(y_true, y_pred):\n",
        "  # F1 score of each of the ratings.\n",
        "  print('F1 score for rating 1,', f1_score(y_true == 1, y_pred == 1))\n",
        "  print('F1 score for rating 2,', f1_score(y_true == 2, y_pred == 2))\n",
        "  print('F1 score for rating 3,', f1_score(y_true == 3, y_pred == 3))\n",
        "  print('F1 score for rating 4,', f1_score(y_true == 4, y_pred == 4))\n",
        "  print('F1 score for rating 5,', f1_score(y_true == 5, y_pred == 5))\n",
        "  # Mean F1 score for the prediction.\n",
        "  print('Mean F1 score', f1_score(y_true, y_pred, average = 'macro'))"
      ],
      "metadata": {
        "id": "UVpYe_--4ibo"
      },
      "execution_count": null,
      "outputs": []
    },
    {
      "cell_type": "markdown",
      "source": [
        "<font color = 'blue'>\n",
        "We check the distribution of the true and the predicted values overlayed together, to check how their distributions differ."
      ],
      "metadata": {
        "id": "JiCaPCXt2f0d"
      }
    },
    {
      "cell_type": "code",
      "source": [
        "getF1Score(y_train, y_train_pred)"
      ],
      "metadata": {
        "colab": {
          "base_uri": "https://localhost:8080/"
        },
        "id": "scqknSOYDjTP",
        "outputId": "575da2db-abb2-48fe-9bb5-81f38b1e56fe"
      },
      "execution_count": null,
      "outputs": [
        {
          "output_type": "stream",
          "name": "stdout",
          "text": [
            "F1 score for rating 1, 0.8237986270022883\n",
            "F1 score for rating 2, 0.0392156862745098\n",
            "F1 score for rating 3, 0.03669724770642202\n",
            "F1 score for rating 4, 0.1780821917808219\n",
            "F1 score for rating 5, 0.7551789077212806\n",
            "Mean F1 score 0.36659453209706455\n"
          ]
        }
      ]
    },
    {
      "cell_type": "markdown",
      "source": [
        "<font color = 'blue'>\n",
        "Low mean F1 score indicating a low prediction power for the ratings 2, 3, and 4, which are low in frequency in the datset."
      ],
      "metadata": {
        "id": "A7wnOuxz-L5W"
      }
    },
    {
      "cell_type": "markdown",
      "source": [
        "## Grid search on NMF model to finetune hyperparameters"
      ],
      "metadata": {
        "id": "3osxmyEGHzbc"
      }
    },
    {
      "cell_type": "markdown",
      "source": [
        "<font color = 'blue'>\n",
        "Next, we will fine-tune some of the hyper-parameters of the NMF model, viz., alpha_W and alpha_H, which are the regularizers for the W and H matrices.<br>\n",
        "We train the model on X_train and test it on X_test."
      ],
      "metadata": {
        "id": "J1jiPwXtqhZF"
      }
    },
    {
      "cell_type": "code",
      "source": [
        "alpha_W = [0, 0.5, 1, 1.5]\n",
        "alpha_H = [0, 0.5, 1, 1.5]\n",
        "accuracy = []\n",
        "f1score = []\n",
        "\n",
        "#Below, we train the model on X_train and test it on X_test.\n",
        "for i, w in tqdm(enumerate(alpha_W), leave = True):\n",
        "  for j, h in enumerate(alpha_H):\n",
        "    # Creating the model\n",
        "    nmf = NMF(n_components= 5, beta_loss= 'kullback-leibler', solver = 'mu', alpha_W= w, alpha_H = h).fit(X_train)\n",
        "    # transforming the data\n",
        "    w_test = nmf.transform(X_test)\n",
        "    # predicting the results\n",
        "    y_test_pred = np.argmax(w_test, axis = 1)\n",
        "    # Correcting the labels in the predicted values, discussed earlier\n",
        "    tag = gettag(y_test, y_test_pred)\n",
        "    y_test_pred = np.vectorize(lambda x: tag[x - 1])(y_test_pred)\n",
        "    # Computing the accurcay and F1 score.\n",
        "    accuracy.append(accuracy_score(y_test, y_test_pred))\n",
        "    f1score.append(f1_score(y_test, y_test_pred, average = 'macro'))\n",
        "    print(accuracy[-1], f1score[-1], i, j)\n"
      ],
      "metadata": {
        "colab": {
          "base_uri": "https://localhost:8080/"
        },
        "collapsed": true,
        "id": "DsaSnCzWHvgl",
        "outputId": "f3bb644c-0e18-41b1-af68-6b458079088e"
      },
      "execution_count": null,
      "outputs": [
        {
          "output_type": "stream",
          "name": "stderr",
          "text": [
            "\r0it [00:00, ?it/s]"
          ]
        },
        {
          "output_type": "stream",
          "name": "stdout",
          "text": [
            "0.49 0.30575399197266984 0 0\n",
            "0.4311111111111111 0.2983721513321079 0 1\n",
            "0.43222222222222223 0.2964362504522 0 2\n"
          ]
        },
        {
          "output_type": "stream",
          "name": "stderr",
          "text": [
            "\r1it [01:45, 105.02s/it]"
          ]
        },
        {
          "output_type": "stream",
          "name": "stdout",
          "text": [
            "0.4311111111111111 0.2998083805124561 0 3\n",
            "0.5555555555555556 0.31134974206643096 1 0\n",
            "0.7955555555555556 0.3698308142884555 1 1\n",
            "0.7977777777777778 0.3520552112247614 1 2\n"
          ]
        },
        {
          "output_type": "stream",
          "name": "stderr",
          "text": [
            "\r2it [02:23, 65.73s/it] "
          ]
        },
        {
          "output_type": "stream",
          "name": "stdout",
          "text": [
            "0.7933333333333333 0.33441512628756875 1 3\n",
            "0.5533333333333333 0.31085561790252597 2 0\n",
            "0.7977777777777778 0.3516936383360697 2 1\n",
            "0.7944444444444444 0.3329627323808248 2 2\n"
          ]
        },
        {
          "output_type": "stream",
          "name": "stderr",
          "text": [
            "\r3it [03:05, 55.02s/it]"
          ]
        },
        {
          "output_type": "stream",
          "name": "stdout",
          "text": [
            "0.7977777777777778 0.33341923198984447 2 3\n",
            "0.5544444444444444 0.31114917450675145 3 0\n",
            "0.7933333333333333 0.3480378009789774 3 1\n",
            "0.7977777777777778 0.33341923198984447 3 2\n"
          ]
        },
        {
          "output_type": "stream",
          "name": "stderr",
          "text": [
            "4it [03:46, 56.72s/it]"
          ]
        },
        {
          "output_type": "stream",
          "name": "stdout",
          "text": [
            "0.7866666666666666 0.3270451864389393 3 3\n"
          ]
        },
        {
          "output_type": "stream",
          "name": "stderr",
          "text": [
            "\n"
          ]
        }
      ]
    },
    {
      "cell_type": "markdown",
      "source": [
        "<font color = 'blue'>\n",
        "Plotting the accuracies and the f1 scores over the grid of alpha_W and alpha_H values."
      ],
      "metadata": {
        "id": "cGD_KiaUZ_ZN"
      }
    },
    {
      "cell_type": "code",
      "source": [
        "accuracy = np.array(accuracy).reshape(len(alpha_W), len(alpha_H))\n",
        "f1score = np.array(f1score).reshape(len(alpha_W), len(alpha_H))\n",
        "def plotscores(accuracy, f1score):\n",
        "  fig, ax = plt.subplots(1,2, figsize = (10,5))\n",
        "  pt1 = ax[0].imshow(accuracy, interpolation='nearest', cmap=plt.cm.hot)\n",
        "  fig.colorbar(pt1)\n",
        "  ax[0].set_xticks(np.arange(len(alpha_W)), alpha_W)\n",
        "  ax[0].set_yticks(np.arange(len(alpha_H)), alpha_H)\n",
        "  ax[0].set_xlabel('alpha_W')\n",
        "  ax[0].set_ylabel('alpha_H')\n",
        "  ax[0].set_title('Accuracy score')\n",
        "\n",
        "  pt2 = ax[1].imshow(f1score, interpolation='nearest', cmap=plt.cm.hot)\n",
        "  fig.colorbar(pt2)\n",
        "  ax[1].set_xticks(np.arange(len(alpha_W)), alpha_W)\n",
        "  ax[1].set_yticks(np.arange(len(alpha_H)), alpha_H)\n",
        "  ax[1].set_xlabel('alpha_W')\n",
        "  ax[1].set_ylabel('alpha_H')\n",
        "  ax[1].set_title('Mean F1 score')\n",
        "\n",
        "plotscores(accuracy, f1score)"
      ],
      "metadata": {
        "colab": {
          "base_uri": "https://localhost:8080/",
          "height": 422
        },
        "id": "iWyWB-ihLRop",
        "outputId": "2b148ee7-b373-411d-decb-583998c17ec0"
      },
      "execution_count": null,
      "outputs": [
        {
          "output_type": "display_data",
          "data": {
            "text/plain": [
              "<Figure size 1000x500 with 4 Axes>"
            ],
            "image/png": "[encoded data removed]"
          },
          "metadata": {}
        }
      ]
    },
    {
      "cell_type": "markdown",
      "source": [
        "<font color = 'blue'>\n",
        "The above plots show the behavior of accuracy and the f1 scores of the predictions as we change the alpha_W and alpha_H values. We note that both scores are maximized for different pairs of alpha_H and alpha_W. Howvere, we note that the change in F1 score over the entire grid is not high."
      ],
      "metadata": {
        "id": "NT6vzSRqzCdC"
      }
    },
    {
      "cell_type": "markdown",
      "source": [
        "<font color = 'blue'>\n",
        "The below cells show the maximum values of the accuracies and f1 scores achieved at the resctive values of alpha_H and alpha_W."
      ],
      "metadata": {
        "id": "AQFtbmt-zfDq"
      }
    },
    {
      "cell_type": "code",
      "source": [
        "# determining the index of the maximum accuracy values in the array\n",
        "i = np.argmax(accuracy, axis = 1)\n",
        "j = np.argmax(np.max(accuracy, axis = 1))\n",
        "print('Best accuracy is', accuracy[j, i[j]], 'at alpha_W =', alpha_W[j], 'and alpha_H =', alpha_H[i[j]])"
      ],
      "metadata": {
        "colab": {
          "base_uri": "https://localhost:8080/"
        },
        "id": "EkqEi4WFOqFi",
        "outputId": "3b4b4625-d7d4-4331-a5ef-2fa6a0a917ec"
      },
      "execution_count": null,
      "outputs": [
        {
          "output_type": "stream",
          "name": "stdout",
          "text": [
            "Best accuracy is 0.7977777777777778 at alpha_W = 0.5 and alpha_H = 1\n"
          ]
        }
      ]
    },
    {
      "cell_type": "code",
      "source": [
        "# determining the index of the maximum F1 score values in the array\n",
        "i = np.argmax(f1score, axis = 1)\n",
        "j = np.argmax(np.max(f1score, axis = 1))\n",
        "print('Best f1 score is', f1score[j, i[j]], 'at alpha_W =', alpha_W[j], 'and alpha_H =', alpha_H[i[j]])"
      ],
      "metadata": {
        "colab": {
          "base_uri": "https://localhost:8080/"
        },
        "id": "5BXkr_pgPoS_",
        "outputId": "75b3da50-1cfb-4aee-fd64-1e88951cc5b7"
      },
      "execution_count": null,
      "outputs": [
        {
          "output_type": "stream",
          "name": "stdout",
          "text": [
            "Best f1 score is 0.3698308142884555 at alpha_W = 0.5 and alpha_H = 0.5\n"
          ]
        }
      ]
    },
    {
      "cell_type": "markdown",
      "source": [
        "## Clustering Methods"
      ],
      "metadata": {
        "id": "srbKIE3Gz0a7"
      }
    },
    {
      "cell_type": "markdown",
      "source": [
        "## KMeans"
      ],
      "metadata": {
        "id": "VJfaiJMyPWkk"
      }
    },
    {
      "cell_type": "markdown",
      "source": [
        "<font color = 'blue'>\n",
        "First, we will use the KMeans clustering model."
      ],
      "metadata": {
        "id": "18zyg8GTz4Ip"
      }
    },
    {
      "cell_type": "code",
      "source": [
        "# Creating the model and making prediction.\n",
        "kmeans = KMeans(n_clusters= 5, random_state=42).fit(X_train)\n",
        "y_train_pred = kmeans.labels_"
      ],
      "metadata": {
        "id": "IuBGxxnxPWFx"
      },
      "execution_count": null,
      "outputs": []
    },
    {
      "cell_type": "code",
      "source": [
        "# Correcting the labels in the predicted values, discussed earlier.\n",
        "tag = gettag(y_train, y_train_pred)\n",
        "y_train_pred = np.vectorize(lambda x: tag[x - 1])(y_train_pred)"
      ],
      "metadata": {
        "id": "D0tmRpzr34hr"
      },
      "execution_count": null,
      "outputs": []
    },
    {
      "cell_type": "markdown",
      "source": [
        "<font color = 'blue'>\n",
        "Checking the distribution of predicted values overlayed on the true values.<br>\n",
        "Again as the previous model, the plot below shows that the distribution of values in the middle ratings, i.e., 2, 3, and 4, is very different for the true and the predicted values, indicating a low f1 score for the model."
      ],
      "metadata": {
        "id": "qIPReR4NC0Zx"
      }
    },
    {
      "cell_type": "code",
      "source": [
        "plt.hist(y_train, label = 'y_train', density = True, color = 'orange',\n",
        "           edgecolor = 'black', alpha = 0.4)\n",
        "plt.hist(y_train_pred, label = 'y_train_pred',\n",
        "           density = True, color = 'blue', edgecolor = 'black', alpha = 0.2)\n",
        "plt.legend()"
      ],
      "metadata": {
        "colab": {
          "base_uri": "https://localhost:8080/",
          "height": 447
        },
        "id": "DyMtMfXz4QhA",
        "outputId": "7fe9f577-49f9-4e7c-b2dc-9a27bfa1fb67"
      },
      "execution_count": null,
      "outputs": [
        {
          "output_type": "execute_result",
          "data": {
            "text/plain": [
              "<matplotlib.legend.Legend at 0x78e2bad04dd0>"
            ]
          },
          "metadata": {},
          "execution_count": 191
        },
        {
          "output_type": "display_data",
          "data": {
            "text/plain": [
              "<Figure size 640x480 with 1 Axes>"
            ],
            "image/png": "[encoded data removed]"
          },
          "metadata": {}
        }
      ]
    },
    {
      "cell_type": "markdown",
      "source": [
        "<font color = 'blue'>\n",
        "Computing the accuracy and the F1 score."
      ],
      "metadata": {
        "id": "I51kPut1ZcR8"
      }
    },
    {
      "cell_type": "code",
      "source": [
        "accuracy_score(y_train, y_train_pred)"
      ],
      "metadata": {
        "colab": {
          "base_uri": "https://localhost:8080/"
        },
        "id": "HfpwXTgZDYt7",
        "outputId": "5d3fba6b-7cec-48a0-908b-ea1ab7b0cda6"
      },
      "execution_count": null,
      "outputs": [
        {
          "output_type": "execute_result",
          "data": {
            "text/plain": [
              "0.52"
            ]
          },
          "metadata": {},
          "execution_count": 193
        }
      ]
    },
    {
      "cell_type": "code",
      "source": [
        "getF1Score(y_train, y_train_pred)"
      ],
      "metadata": {
        "colab": {
          "base_uri": "https://localhost:8080/"
        },
        "id": "pF9zckZp4mym",
        "outputId": "29d17a0b-2726-4f82-ffd0-51c2407ca721"
      },
      "execution_count": null,
      "outputs": [
        {
          "output_type": "stream",
          "name": "stdout",
          "text": [
            "F1 score for rating 1, 0.761344537815126\n",
            "F1 score for rating 2, 0.0\n",
            "F1 score for rating 3, 0.09433962264150944\n",
            "F1 score for rating 4, 0.07804878048780488\n",
            "F1 score for rating 5, 0.5710293432696786\n",
            "Mean F1 score 0.3009524568428238\n"
          ]
        }
      ]
    },
    {
      "cell_type": "markdown",
      "source": [
        "<font color = 'blue'>\n",
        "KMeans clustering doesn't have many hyper-paramters for fine-tuning, and hence, we will leave it here. The above scores show that the method achieved an accuracy of 0.52 and a mean F1 score of 0.30, both short of what the NMF method achieved."
      ],
      "metadata": {
        "id": "v6mg6aBMXgX2"
      }
    },
    {
      "cell_type": "markdown",
      "source": [
        "## DBscan clustering"
      ],
      "metadata": {
        "id": "V-k1uMzBYrxO"
      }
    },
    {
      "cell_type": "code",
      "source": [
        "from sklearn.cluster import DBSCAN"
      ],
      "metadata": {
        "id": "riy2T2SKYrTB"
      },
      "execution_count": null,
      "outputs": []
    },
    {
      "cell_type": "code",
      "source": [
        "# Creating the model\n",
        "dbcl = DBSCAN(eps=0.8, min_samples=3).fit(X_train)\n",
        "y_train_pred = dbcl.labels_"
      ],
      "metadata": {
        "id": "V3k0meABYvpg"
      },
      "execution_count": null,
      "outputs": []
    },
    {
      "cell_type": "markdown",
      "source": [
        "<font color = 'blue'>\n",
        "Below, we count the number of values in eacg of the clusters identitfied by BD Scan. We tried different values of eps and min_samples in the above model and never found a result that gave a well enough number of clusters, which we could use for predictions."
      ],
      "metadata": {
        "id": "6RNfctCgcTsY"
      }
    },
    {
      "cell_type": "code",
      "source": [
        "from collections import Counter\n",
        "\n",
        "unique_counts = Counter(y_train_pred)\n",
        "unique_counts\n"
      ],
      "metadata": {
        "colab": {
          "base_uri": "https://localhost:8080/"
        },
        "id": "xPJQ-r-xY5Ip",
        "outputId": "d7c19202-f3cc-4434-c68c-c34adffef08f"
      },
      "execution_count": null,
      "outputs": [
        {
          "output_type": "execute_result",
          "data": {
            "text/plain": [
              "Counter({np.int64(-1): 2061,\n",
              "         np.int64(0): 9,\n",
              "         np.int64(4): 3,\n",
              "         np.int64(1): 4,\n",
              "         np.int64(2): 3,\n",
              "         np.int64(3): 4,\n",
              "         np.int64(5): 3,\n",
              "         np.int64(8): 3,\n",
              "         np.int64(6): 5,\n",
              "         np.int64(7): 5})"
            ]
          },
          "metadata": {},
          "execution_count": 196
        }
      ]
    },
    {
      "cell_type": "markdown",
      "source": [
        "<font color = 'blue'>\n",
        "Despite many efforts with manual tuning of the hyper-parameters of DBScan clustering, I didn't see any stable result, and thus, I have not proceeded further with any analysis using DBScan."
      ],
      "metadata": {
        "id": "cgLBkoAEZOFo"
      }
    },
    {
      "cell_type": "markdown",
      "source": [
        "## Agglomerative Clustering"
      ],
      "metadata": {
        "id": "iYwYXFcV4-a8"
      }
    },
    {
      "cell_type": "markdown",
      "source": [
        "<font color = 'blue'>\n",
        "The next method we use is a heirarichal clustering method, called agglomerative clustering. It works in a bottom up approach by starting up with single nodes and systematically forming bigger clusters."
      ],
      "metadata": {
        "id": "4rMn6_DR1jtQ"
      }
    },
    {
      "cell_type": "code",
      "source": [
        "# Creating the model\n",
        "agcl = AgglomerativeClustering(n_clusters= 5, linkage = 'single').fit(X_train)"
      ],
      "metadata": {
        "id": "YVP_0FvG49fp"
      },
      "execution_count": null,
      "outputs": []
    },
    {
      "cell_type": "code",
      "source": [
        "y_train_pred = agcl.labels_"
      ],
      "metadata": {
        "id": "Z5xjaZhb5MLU"
      },
      "execution_count": null,
      "outputs": []
    },
    {
      "cell_type": "code",
      "source": [
        "# Correcting the labels of the predicted values, discussed earlier.\n",
        "tag = gettag(y_train, y_train_pred)\n",
        "y_train_pred = np.vectorize(lambda x: tag[x - 1])(y_train_pred)"
      ],
      "metadata": {
        "id": "hHzj3hQY5ORZ"
      },
      "execution_count": null,
      "outputs": []
    },
    {
      "cell_type": "markdown",
      "source": [
        "<font color = 'blue'>\n",
        "Checking the distribution of predicted values overlayed on the true values.<br>\n",
        "The plot below indicates that the model isn't able to predict anything except the rating 5, which we confirm with F1 scores later. <br>"
      ],
      "metadata": {
        "id": "g4nMFcRTDwye"
      }
    },
    {
      "cell_type": "code",
      "source": [
        "plt.hist(y_train, label = 'y_train', density = True, color = 'orange',\n",
        "           edgecolor = 'black', alpha = 0.4)\n",
        "plt.hist(y_train_pred, label = 'y_train_pred',\n",
        "           density = True, color = 'blue', edgecolor = 'black', alpha = 0.2)\n",
        "plt.legend()"
      ],
      "metadata": {
        "colab": {
          "base_uri": "https://localhost:8080/",
          "height": 447
        },
        "id": "4Y0wKWCS5sf0",
        "outputId": "b6bef33c-8a82-4352-dc0d-7cb0e3bcd56a"
      },
      "execution_count": null,
      "outputs": [
        {
          "output_type": "execute_result",
          "data": {
            "text/plain": [
              "<matplotlib.legend.Legend at 0x78e2bb2f2150>"
            ]
          },
          "metadata": {},
          "execution_count": 200
        },
        {
          "output_type": "display_data",
          "data": {
            "text/plain": [
              "<Figure size 640x480 with 1 Axes>"
            ],
            "image/png": "[encoded data removed]"
          },
          "metadata": {}
        }
      ]
    },
    {
      "cell_type": "markdown",
      "source": [
        "<font color = 'blue'>\n",
        "Computing the accuracies and the F1 scores."
      ],
      "metadata": {
        "id": "SEaP8ZgWc5IL"
      }
    },
    {
      "cell_type": "code",
      "source": [
        "accuracy_score(y_train, y_train_pred)"
      ],
      "metadata": {
        "colab": {
          "base_uri": "https://localhost:8080/"
        },
        "id": "OdBeNgspDrlF",
        "outputId": "bc529eec-a0b0-44b4-b5af-5dd11bc3844a"
      },
      "execution_count": null,
      "outputs": [
        {
          "output_type": "execute_result",
          "data": {
            "text/plain": [
              "0.5780952380952381"
            ]
          },
          "metadata": {},
          "execution_count": 202
        }
      ]
    },
    {
      "cell_type": "code",
      "source": [
        "getF1Score(y_train, y_train_pred)"
      ],
      "metadata": {
        "colab": {
          "base_uri": "https://localhost:8080/"
        },
        "id": "FdtLchL15qZs",
        "outputId": "bdd42fe3-e8a3-4b04-8496-63f4390790cc"
      },
      "execution_count": null,
      "outputs": [
        {
          "output_type": "stream",
          "name": "stdout",
          "text": [
            "F1 score for rating 1, 0.003067484662576687\n",
            "F1 score for rating 2, 0.038461538461538464\n",
            "F1 score for rating 3, 0.0\n",
            "F1 score for rating 4, 0.0\n",
            "F1 score for rating 5, 0.7327690447400241\n",
            "Mean F1 score 0.15485961357282785\n"
          ]
        }
      ]
    },
    {
      "cell_type": "markdown",
      "source": [
        "<font color = 'blue'>\n",
        "A low F1 socre confrims the highly skewed distribution of the predicted values we saw earlier."
      ],
      "metadata": {
        "id": "U-F-C0lgEOGW"
      }
    },
    {
      "cell_type": "markdown",
      "source": [
        "### Hyper-parameter tuning for the agglomerative clustering model."
      ],
      "metadata": {
        "id": "TpTI2fIFRunB"
      }
    },
    {
      "cell_type": "markdown",
      "source": [
        "<font color = 'blue'>\n",
        "Next, we tune the hyper-parameters of the agglomerative clustering. We tune the linkage and metric hyper-parameters. Linkage provides a way to measure the closest clusters, while metrics tells us the method of distance measurement."
      ],
      "metadata": {
        "id": "8pRn6_EU0JBT"
      }
    },
    {
      "cell_type": "code",
      "source": [
        "# the grid of values to try.\n",
        "linkage = ['single', 'complete', 'average']\n",
        "metric = ['euclidean', 'manhattan']\n",
        "combs = list(itr.product(linkage, metric))\n",
        "combs.append(('ward', 'euclidean'))\n",
        "accuracy = []\n",
        "f1score = []\n",
        "\n",
        "for c in combs:\n",
        "  # Creating the model and predicting values.\n",
        "  agcl = AgglomerativeClustering(n_clusters= 5, linkage = c[0], metric= c[1]).fit(X_train)\n",
        "  y_train_pred = agcl.labels_\n",
        "  # Correcting the labels of the predicted values, discussed earlier.\n",
        "  tag = gettag(y_train, y_train_pred)\n",
        "  y_train_pred = np.vectorize(lambda x: tag[x - 1])(y_train_pred)\n",
        "  # Computing the scores.\n",
        "  accuracy.append(accuracy_score(y_train, y_train_pred))\n",
        "  f1score.append(f1_score(y_train, y_train_pred, average = 'macro'))\n",
        "  print(np.round(accuracy[-1], 3), np.round(f1score[-1], 3), c)"
      ],
      "metadata": {
        "colab": {
          "base_uri": "https://localhost:8080/"
        },
        "id": "Fo1HHtFwDU0d",
        "outputId": "1d0e0e7f-0e92-4046-fd39-c72bc1dae224"
      },
      "execution_count": null,
      "outputs": [
        {
          "output_type": "stream",
          "name": "stdout",
          "text": [
            "0.578 0.155 ('single', 'euclidean')\n",
            "0.578 0.147 ('single', 'manhattan')\n",
            "0.564 0.256 ('complete', 'euclidean')\n",
            "0.579 0.155 ('complete', 'manhattan')\n",
            "0.577 0.157 ('average', 'euclidean')\n",
            "0.578 0.147 ('average', 'manhattan')\n",
            "0.597 0.28 ('ward', 'euclidean')\n"
          ]
        }
      ]
    },
    {
      "cell_type": "markdown",
      "source": [
        "<font color = 'blue'>\n",
        "Below, we put all the above results from the hyper-parameter tuning of the agglomerative clustering.\n",
        "</font>\n",
        "<table>\n",
        "  <tr>\n",
        "    <th>Linkage</th>\n",
        "    <th>Metric</th>\n",
        "    <th>Accuracy</th>\n",
        "    <th>F1 score</th>\n",
        "  </tr>\n",
        "    <tr>\n",
        "    <td>Single</td>\n",
        "    <td>Eucledian</td>\n",
        "    <td>0.578</td>\n",
        "    <td>0.155</td>\n",
        "  </tr>\n",
        "  <tr>\n",
        "    <td>Single</td>\n",
        "    <td>manhattan</td>\n",
        "    <td>0.578</td>\n",
        "    <td>0.147</td>\n",
        "  </tr>\n",
        "  <tr>\n",
        "    <td>Complete</td>\n",
        "    <td>Eucledian</td>\n",
        "    <td>0.564</td>\n",
        "    <td>0.256</td>\n",
        "  </tr>\n",
        "  <tr>\n",
        "    <td>Complete</td>\n",
        "    <td>manhattan</td>\n",
        "    <td>0.579</td>\n",
        "    <td>0.155</td>\n",
        "  </tr>\n",
        "  <tr>\n",
        "    <td>Average</td>\n",
        "    <td>Eucledian</td>\n",
        "    <td>0.577</td>\n",
        "    <td>0.157</td>\n",
        "  </tr>\n",
        "  <tr>\n",
        "    <td>Average</td>\n",
        "    <td>manhattan</td>\n",
        "    <td>0.578</td>\n",
        "    <td>0.147</td>\n",
        "  </tr>\n",
        "  <tr>\n",
        "    <td>Ward</td>\n",
        "    <td>Eucledian</td>\n",
        "    <td>0.597</td>\n",
        "    <td>0.28</td>\n",
        "  </tr>\n",
        "</table>"
      ],
      "metadata": {
        "id": "oCz3EcboVCQu"
      }
    },
    {
      "cell_type": "markdown",
      "source": [
        "<font color = 'blue'>\n",
        "We can see that linkage 'ward' along with the metric 'euclidean' performs the best. However, the above results also show that the agglomeratove clustering for any of the linkages and the metrics does not perform as good as the NMF method discussed above."
      ],
      "metadata": {
        "id": "Fov3X2GSWrQe"
      }
    },
    {
      "cell_type": "markdown",
      "source": [
        "## Support vector Machine for a baseline result"
      ],
      "metadata": {
        "id": "7DoPiaL_Z3Iu"
      }
    },
    {
      "cell_type": "code",
      "source": [
        "from sklearn import svm\n",
        "\n",
        "# Creating a model for the support vector machine.\n",
        "svmclf=svm.SVC()\n",
        "svmclf.fit(X_train,y_train)"
      ],
      "metadata": {
        "colab": {
          "base_uri": "https://localhost:8080/",
          "height": 80
        },
        "id": "6h4_FzaNZ8AU",
        "outputId": "eedd3703-c2a6-4527-fec2-202a979df683"
      },
      "execution_count": null,
      "outputs": [
        {
          "output_type": "execute_result",
          "data": {
            "text/plain": [
              "SVC()"
            ],
            "text/html": [
              "<style>#sk-container-id-1 {\n",
              "  /* Definition of color scheme common for light and dark mode */\n",
              "  --sklearn-color-text: #000;\n",
              "  --sklearn-color-text-muted: #666;\n",
              "  --sklearn-color-line: gray;\n",
              "  /* Definition of color scheme for unfitted estimators */\n",
              "  --sklearn-color-unfitted-level-0: #fff5e6;\n",
              "  --sklearn-color-unfitted-level-1: #f6e4d2;\n",
              "  --sklearn-color-unfitted-level-2: #ffe0b3;\n",
              "  --sklearn-color-unfitted-level-3: chocolate;\n",
              "  /* Definition of color scheme for fitted estimators */\n",
              "  --sklearn-color-fitted-level-0: #f0f8ff;\n",
              "  --sklearn-color-fitted-level-1: #d4ebff;\n",
              "  --sklearn-color-fitted-level-2: #b3dbfd;\n",
              "  --sklearn-color-fitted-level-3: cornflowerblue;\n",
              "\n",
              "  /* Specific color for light theme */\n",
              "  --sklearn-color-text-on-default-background: var(--sg-text-color, var(--theme-code-foreground, var(--jp-content-font-color1, black)));\n",
              "  --sklearn-color-background: var(--sg-background-color, var(--theme-background, var(--jp-layout-color0, white)));\n",
              "  --sklearn-color-border-box: var(--sg-text-color, var(--theme-code-foreground, var(--jp-content-font-color1, black)));\n",
              "  --sklearn-color-icon: #696969;\n",
              "\n",
              "  @media (prefers-color-scheme: dark) {\n",
              "    /* Redefinition of color scheme for dark theme */\n",
              "    --sklearn-color-text-on-default-background: var(--sg-text-color, var(--theme-code-foreground, var(--jp-content-font-color1, white)));\n",
              "    --sklearn-color-background: var(--sg-background-color, var(--theme-background, var(--jp-layout-color0, #111)));\n",
              "    --sklearn-color-border-box: var(--sg-text-color, var(--theme-code-foreground, var(--jp-content-font-color1, white)));\n",
              "    --sklearn-color-icon: #878787;\n",
              "  }\n",
              "}\n",
              "\n",
              "#sk-container-id-1 {\n",
              "  color: var(--sklearn-color-text);\n",
              "}\n",
              "\n",
              "#sk-container-id-1 pre {\n",
              "  padding: 0;\n",
              "}\n",
              "\n",
              "#sk-container-id-1 input.sk-hidden--visually {\n",
              "  border: 0;\n",
              "  clip: rect(1px 1px 1px 1px);\n",
              "  clip: rect(1px, 1px, 1px, 1px);\n",
              "  height: 1px;\n",
              "  margin: -1px;\n",
              "  overflow: hidden;\n",
              "  padding: 0;\n",
              "  position: absolute;\n",
              "  width: 1px;\n",
              "}\n",
              "\n",
              "#sk-container-id-1 div.sk-dashed-wrapped {\n",
              "  border: 1px dashed var(--sklearn-color-line);\n",
              "  margin: 0 0.4em 0.5em 0.4em;\n",
              "  box-sizing: border-box;\n",
              "  padding-bottom: 0.4em;\n",
              "  background-color: var(--sklearn-color-background);\n",
              "}\n",
              "\n",
              "#sk-container-id-1 div.sk-container {\n",
              "  /* jupyter's `normalize.less` sets `[hidden] { display: none; }`\n",
              "     but bootstrap.min.css set `[hidden] { display: none !important; }`\n",
              "     so we also need the `!important` here to be able to override the\n",
              "     default hidden behavior on the sphinx rendered scikit-learn.org.\n",
              "     See: https://github.com/scikit-learn/scikit-learn/issues/21755 */\n",
              "  display: inline-block !important;\n",
              "  position: relative;\n",
              "}\n",
              "\n",
              "#sk-container-id-1 div.sk-text-repr-fallback {\n",
              "  display: none;\n",
              "}\n",
              "\n",
              "div.sk-parallel-item,\n",
              "div.sk-serial,\n",
              "div.sk-item {\n",
              "  /* draw centered vertical line to link estimators */\n",
              "  background-image: linear-gradient(var(--sklearn-color-text-on-default-background), var(--sklearn-color-text-on-default-background));\n",
              "  background-size: 2px 100%;\n",
              "  background-repeat: no-repeat;\n",
              "  background-position: center center;\n",
              "}\n",
              "\n",
              "/* Parallel-specific style estimator block */\n",
              "\n",
              "#sk-container-id-1 div.sk-parallel-item::after {\n",
              "  content: \"\";\n",
              "  width: 100%;\n",
              "  border-bottom: 2px solid var(--sklearn-color-text-on-default-background);\n",
              "  flex-grow: 1;\n",
              "}\n",
              "\n",
              "#sk-container-id-1 div.sk-parallel {\n",
              "  display: flex;\n",
              "  align-items: stretch;\n",
              "  justify-content: center;\n",
              "  background-color: var(--sklearn-color-background);\n",
              "  position: relative;\n",
              "}\n",
              "\n",
              "#sk-container-id-1 div.sk-parallel-item {\n",
              "  display: flex;\n",
              "  flex-direction: column;\n",
              "}\n",
              "\n",
              "#sk-container-id-1 div.sk-parallel-item:first-child::after {\n",
              "  align-self: flex-end;\n",
              "  width: 50%;\n",
              "}\n",
              "\n",
              "#sk-container-id-1 div.sk-parallel-item:last-child::after {\n",
              "  align-self: flex-start;\n",
              "  width: 50%;\n",
              "}\n",
              "\n",
              "#sk-container-id-1 div.sk-parallel-item:only-child::after {\n",
              "  width: 0;\n",
              "}\n",
              "\n",
              "/* Serial-specific style estimator block */\n",
              "\n",
              "#sk-container-id-1 div.sk-serial {\n",
              "  display: flex;\n",
              "  flex-direction: column;\n",
              "  align-items: center;\n",
              "  background-color: var(--sklearn-color-background);\n",
              "  padding-right: 1em;\n",
              "  padding-left: 1em;\n",
              "}\n",
              "\n",
              "\n",
              "/* Toggleable style: style used for estimator/Pipeline/ColumnTransformer box that is\n",
              "clickable and can be expanded/collapsed.\n",
              "- Pipeline and ColumnTransformer use this feature and define the default style\n",
              "- Estimators will overwrite some part of the style using the `sk-estimator` class\n",
              "*/\n",
              "\n",
              "/* Pipeline and ColumnTransformer style (default) */\n",
              "\n",
              "#sk-container-id-1 div.sk-toggleable {\n",
              "  /* Default theme specific background. It is overwritten whether we have a\n",
              "  specific estimator or a Pipeline/ColumnTransformer */\n",
              "  background-color: var(--sklearn-color-background);\n",
              "}\n",
              "\n",
              "/* Toggleable label */\n",
              "#sk-container-id-1 label.sk-toggleable__label {\n",
              "  cursor: pointer;\n",
              "  display: flex;\n",
              "  width: 100%;\n",
              "  margin-bottom: 0;\n",
              "  padding: 0.5em;\n",
              "  box-sizing: border-box;\n",
              "  text-align: center;\n",
              "  align-items: start;\n",
              "  justify-content: space-between;\n",
              "  gap: 0.5em;\n",
              "}\n",
              "\n",
              "#sk-container-id-1 label.sk-toggleable__label .caption {\n",
              "  font-size: 0.6rem;\n",
              "  font-weight: lighter;\n",
              "  color: var(--sklearn-color-text-muted);\n",
              "}\n",
              "\n",
              "#sk-container-id-1 label.sk-toggleable__label-arrow:before {\n",
              "  /* Arrow on the left of the label */\n",
              "  content: \"▸\";\n",
              "  float: left;\n",
              "  margin-right: 0.25em;\n",
              "  color: var(--sklearn-color-icon);\n",
              "}\n",
              "\n",
              "#sk-container-id-1 label.sk-toggleable__label-arrow:hover:before {\n",
              "  color: var(--sklearn-color-text);\n",
              "}\n",
              "\n",
              "/* Toggleable content - dropdown */\n",
              "\n",
              "#sk-container-id-1 div.sk-toggleable__content {\n",
              "  max-height: 0;\n",
              "  max-width: 0;\n",
              "  overflow: hidden;\n",
              "  text-align: left;\n",
              "  /* unfitted */\n",
              "  background-color: var(--sklearn-color-unfitted-level-0);\n",
              "}\n",
              "\n",
              "#sk-container-id-1 div.sk-toggleable__content.fitted {\n",
              "  /* fitted */\n",
              "  background-color: var(--sklearn-color-fitted-level-0);\n",
              "}\n",
              "\n",
              "#sk-container-id-1 div.sk-toggleable__content pre {\n",
              "  margin: 0.2em;\n",
              "  border-radius: 0.25em;\n",
              "  color: var(--sklearn-color-text);\n",
              "  /* unfitted */\n",
              "  background-color: var(--sklearn-color-unfitted-level-0);\n",
              "}\n",
              "\n",
              "#sk-container-id-1 div.sk-toggleable__content.fitted pre {\n",
              "  /* unfitted */\n",
              "  background-color: var(--sklearn-color-fitted-level-0);\n",
              "}\n",
              "\n",
              "#sk-container-id-1 input.sk-toggleable__control:checked~div.sk-toggleable__content {\n",
              "  /* Expand drop-down */\n",
              "  max-height: 200px;\n",
              "  max-width: 100%;\n",
              "  overflow: auto;\n",
              "}\n",
              "\n",
              "#sk-container-id-1 input.sk-toggleable__control:checked~label.sk-toggleable__label-arrow:before {\n",
              "  content: \"▾\";\n",
              "}\n",
              "\n",
              "/* Pipeline/ColumnTransformer-specific style */\n",
              "\n",
              "#sk-container-id-1 div.sk-label input.sk-toggleable__control:checked~label.sk-toggleable__label {\n",
              "  color: var(--sklearn-color-text);\n",
              "  background-color: var(--sklearn-color-unfitted-level-2);\n",
              "}\n",
              "\n",
              "#sk-container-id-1 div.sk-label.fitted input.sk-toggleable__control:checked~label.sk-toggleable__label {\n",
              "  background-color: var(--sklearn-color-fitted-level-2);\n",
              "}\n",
              "\n",
              "/* Estimator-specific style */\n",
              "\n",
              "/* Colorize estimator box */\n",
              "#sk-container-id-1 div.sk-estimator input.sk-toggleable__control:checked~label.sk-toggleable__label {\n",
              "  /* unfitted */\n",
              "  background-color: var(--sklearn-color-unfitted-level-2);\n",
              "}\n",
              "\n",
              "#sk-container-id-1 div.sk-estimator.fitted input.sk-toggleable__control:checked~label.sk-toggleable__label {\n",
              "  /* fitted */\n",
              "  background-color: var(--sklearn-color-fitted-level-2);\n",
              "}\n",
              "\n",
              "#sk-container-id-1 div.sk-label label.sk-toggleable__label,\n",
              "#sk-container-id-1 div.sk-label label {\n",
              "  /* The background is the default theme color */\n",
              "  color: var(--sklearn-color-text-on-default-background);\n",
              "}\n",
              "\n",
              "/* On hover, darken the color of the background */\n",
              "#sk-container-id-1 div.sk-label:hover label.sk-toggleable__label {\n",
              "  color: var(--sklearn-color-text);\n",
              "  background-color: var(--sklearn-color-unfitted-level-2);\n",
              "}\n",
              "\n",
              "/* Label box, darken color on hover, fitted */\n",
              "#sk-container-id-1 div.sk-label.fitted:hover label.sk-toggleable__label.fitted {\n",
              "  color: var(--sklearn-color-text);\n",
              "  background-color: var(--sklearn-color-fitted-level-2);\n",
              "}\n",
              "\n",
              "/* Estimator label */\n",
              "\n",
              "#sk-container-id-1 div.sk-label label {\n",
              "  font-family: monospace;\n",
              "  font-weight: bold;\n",
              "  display: inline-block;\n",
              "  line-height: 1.2em;\n",
              "}\n",
              "\n",
              "#sk-container-id-1 div.sk-label-container {\n",
              "  text-align: center;\n",
              "}\n",
              "\n",
              "/* Estimator-specific */\n",
              "#sk-container-id-1 div.sk-estimator {\n",
              "  font-family: monospace;\n",
              "  border: 1px dotted var(--sklearn-color-border-box);\n",
              "  border-radius: 0.25em;\n",
              "  box-sizing: border-box;\n",
              "  margin-bottom: 0.5em;\n",
              "  /* unfitted */\n",
              "  background-color: var(--sklearn-color-unfitted-level-0);\n",
              "}\n",
              "\n",
              "#sk-container-id-1 div.sk-estimator.fitted {\n",
              "  /* fitted */\n",
              "  background-color: var(--sklearn-color-fitted-level-0);\n",
              "}\n",
              "\n",
              "/* on hover */\n",
              "#sk-container-id-1 div.sk-estimator:hover {\n",
              "  /* unfitted */\n",
              "  background-color: var(--sklearn-color-unfitted-level-2);\n",
              "}\n",
              "\n",
              "#sk-container-id-1 div.sk-estimator.fitted:hover {\n",
              "  /* fitted */\n",
              "  background-color: var(--sklearn-color-fitted-level-2);\n",
              "}\n",
              "\n",
              "/* Specification for estimator info (e.g. \"i\" and \"?\") */\n",
              "\n",
              "/* Common style for \"i\" and \"?\" */\n",
              "\n",
              ".sk-estimator-doc-link,\n",
              "a:link.sk-estimator-doc-link,\n",
              "a:visited.sk-estimator-doc-link {\n",
              "  float: right;\n",
              "  font-size: smaller;\n",
              "  line-height: 1em;\n",
              "  font-family: monospace;\n",
              "  background-color: var(--sklearn-color-background);\n",
              "  border-radius: 1em;\n",
              "  height: 1em;\n",
              "  width: 1em;\n",
              "  text-decoration: none !important;\n",
              "  margin-left: 0.5em;\n",
              "  text-align: center;\n",
              "  /* unfitted */\n",
              "  border: var(--sklearn-color-unfitted-level-1) 1pt solid;\n",
              "  color: var(--sklearn-color-unfitted-level-1);\n",
              "}\n",
              "\n",
              ".sk-estimator-doc-link.fitted,\n",
              "a:link.sk-estimator-doc-link.fitted,\n",
              "a:visited.sk-estimator-doc-link.fitted {\n",
              "  /* fitted */\n",
              "  border: var(--sklearn-color-fitted-level-1) 1pt solid;\n",
              "  color: var(--sklearn-color-fitted-level-1);\n",
              "}\n",
              "\n",
              "/* On hover */\n",
              "div.sk-estimator:hover .sk-estimator-doc-link:hover,\n",
              ".sk-estimator-doc-link:hover,\n",
              "div.sk-label-container:hover .sk-estimator-doc-link:hover,\n",
              ".sk-estimator-doc-link:hover {\n",
              "  /* unfitted */\n",
              "  background-color: var(--sklearn-color-unfitted-level-3);\n",
              "  color: var(--sklearn-color-background);\n",
              "  text-decoration: none;\n",
              "}\n",
              "\n",
              "div.sk-estimator.fitted:hover .sk-estimator-doc-link.fitted:hover,\n",
              ".sk-estimator-doc-link.fitted:hover,\n",
              "div.sk-label-container:hover .sk-estimator-doc-link.fitted:hover,\n",
              ".sk-estimator-doc-link.fitted:hover {\n",
              "  /* fitted */\n",
              "  background-color: var(--sklearn-color-fitted-level-3);\n",
              "  color: var(--sklearn-color-background);\n",
              "  text-decoration: none;\n",
              "}\n",
              "\n",
              "/* Span, style for the box shown on hovering the info icon */\n",
              ".sk-estimator-doc-link span {\n",
              "  display: none;\n",
              "  z-index: 9999;\n",
              "  position: relative;\n",
              "  font-weight: normal;\n",
              "  right: .2ex;\n",
              "  padding: .5ex;\n",
              "  margin: .5ex;\n",
              "  width: min-content;\n",
              "  min-width: 20ex;\n",
              "  max-width: 50ex;\n",
              "  color: var(--sklearn-color-text);\n",
              "  box-shadow: 2pt 2pt 4pt #999;\n",
              "  /* unfitted */\n",
              "  background: var(--sklearn-color-unfitted-level-0);\n",
              "  border: .5pt solid var(--sklearn-color-unfitted-level-3);\n",
              "}\n",
              "\n",
              ".sk-estimator-doc-link.fitted span {\n",
              "  /* fitted */\n",
              "  background: var(--sklearn-color-fitted-level-0);\n",
              "  border: var(--sklearn-color-fitted-level-3);\n",
              "}\n",
              "\n",
              ".sk-estimator-doc-link:hover span {\n",
              "  display: block;\n",
              "}\n",
              "\n",
              "/* \"?\"-specific style due to the `<a>` HTML tag */\n",
              "\n",
              "#sk-container-id-1 a.estimator_doc_link {\n",
              "  float: right;\n",
              "  font-size: 1rem;\n",
              "  line-height: 1em;\n",
              "  font-family: monospace;\n",
              "  background-color: var(--sklearn-color-background);\n",
              "  border-radius: 1rem;\n",
              "  height: 1rem;\n",
              "  width: 1rem;\n",
              "  text-decoration: none;\n",
              "  /* unfitted */\n",
              "  color: var(--sklearn-color-unfitted-level-1);\n",
              "  border: var(--sklearn-color-unfitted-level-1) 1pt solid;\n",
              "}\n",
              "\n",
              "#sk-container-id-1 a.estimator_doc_link.fitted {\n",
              "  /* fitted */\n",
              "  border: var(--sklearn-color-fitted-level-1) 1pt solid;\n",
              "  color: var(--sklearn-color-fitted-level-1);\n",
              "}\n",
              "\n",
              "/* On hover */\n",
              "#sk-container-id-1 a.estimator_doc_link:hover {\n",
              "  /* unfitted */\n",
              "  background-color: var(--sklearn-color-unfitted-level-3);\n",
              "  color: var(--sklearn-color-background);\n",
              "  text-decoration: none;\n",
              "}\n",
              "\n",
              "#sk-container-id-1 a.estimator_doc_link.fitted:hover {\n",
              "  /* fitted */\n",
              "  background-color: var(--sklearn-color-fitted-level-3);\n",
              "}\n",
              "</style><div id=\"sk-container-id-1\" class=\"sk-top-container\"><div class=\"sk-text-repr-fallback\"><pre>SVC()</pre><b>In a Jupyter environment, please rerun this cell to show the HTML representation or trust the notebook. <br />On GitHub, the HTML representation is unable to render, please try loading this page with nbviewer.org.</b></div><div class=\"sk-container\" hidden><div class=\"sk-item\"><div class=\"sk-estimator fitted sk-toggleable\"><input class=\"sk-toggleable__control sk-hidden--visually\" id=\"sk-estimator-id-1\" type=\"checkbox\" checked><label for=\"sk-estimator-id-1\" class=\"sk-toggleable__label fitted sk-toggleable__label-arrow\"><div><div>SVC</div></div><div><a class=\"sk-estimator-doc-link fitted\" rel=\"noreferrer\" target=\"_blank\" href=\"https://scikit-learn.org/1.6/modules/generated/sklearn.svm.SVC.html\">?<span>Documentation for SVC</span></a><span class=\"sk-estimator-doc-link fitted\">i<span>Fitted</span></span></div></label><div class=\"sk-toggleable__content fitted\"><pre>SVC()</pre></div> </div></div></div></div>"
            ]
          },
          "metadata": {},
          "execution_count": 205
        }
      ]
    },
    {
      "cell_type": "markdown",
      "source": [
        "<font color = 'blue'>\n",
        "Making model predictions and computing the scores."
      ],
      "metadata": {
        "id": "mJ730-bLdXme"
      }
    },
    {
      "cell_type": "code",
      "source": [
        "y_pred = svmclf.predict(X_test)"
      ],
      "metadata": {
        "id": "Wxtt5lc-cn2C"
      },
      "execution_count": null,
      "outputs": []
    },
    {
      "cell_type": "code",
      "source": [
        "accuracy_score(y_test, y_pred)"
      ],
      "metadata": {
        "colab": {
          "base_uri": "https://localhost:8080/"
        },
        "id": "e3fwfXmMcuPV",
        "outputId": "f1d060a8-b44d-45e1-a665-c1ca33afb030"
      },
      "execution_count": null,
      "outputs": [
        {
          "output_type": "execute_result",
          "data": {
            "text/plain": [
              "0.8533333333333334"
            ]
          },
          "metadata": {},
          "execution_count": 207
        }
      ]
    },
    {
      "cell_type": "code",
      "source": [
        "f1_score(y_test, y_pred, average = 'macro')"
      ],
      "metadata": {
        "colab": {
          "base_uri": "https://localhost:8080/"
        },
        "id": "UzC6jJHXcwOx",
        "outputId": "4f4e63cc-f72a-43e2-965e-0030165cc668"
      },
      "execution_count": null,
      "outputs": [
        {
          "output_type": "execute_result",
          "data": {
            "text/plain": [
              "0.3596835590302015"
            ]
          },
          "metadata": {},
          "execution_count": 208
        }
      ]
    },
    {
      "cell_type": "markdown",
      "source": [
        "<font color = 'blue'>\n",
        "I used a support vector machine classifier with default settings, and it provides a somewhat better accuracy than the NMF method, but its f1_score doesn't provide much improvement, implying that the method doesn't predict the low frequency labels well enough."
      ],
      "metadata": {
        "id": "oXdW6rkbc9Yi"
      }
    },
    {
      "cell_type": "markdown",
      "source": [
        "## Conclusion"
      ],
      "metadata": {
        "id": "-8aSSPwHAqVx"
      }
    },
    {
      "cell_type": "markdown",
      "source": [
        "<font color = 'blue'>\n",
        "In this project, we tried to predict the ratings provided by employees of various companies based on the text of their reviews. We used multiple unsupervised learning models to make the predictions. We list the results from the various models below:\n",
        "</font>\n",
        "\n",
        "<table>\n",
        "  <tr>\n",
        "    <th>Model</th>\n",
        "    <th>Accuracy</th>\n",
        "    <th>F1 score</th>\n",
        "  </tr>\n",
        "  <tr>\n",
        "    <td>NMF</td>\n",
        "    <td>0.80</td>\n",
        "    <td>0.37</td>\n",
        "  </tr>\n",
        "  <tr>\n",
        "    <td>KMeans</td>\n",
        "    <td>0.52</td>\n",
        "    <td>0.30</td>\n",
        "  </tr>\n",
        "  <tr>\n",
        "    <td>DBScan</td>\n",
        "    <td>NA</td>\n",
        "    <td>NA</td>\n",
        "  </tr>\n",
        "  <tr>\n",
        "    <td>Agglomerative clustering</td>\n",
        "    <td>0.60</td>\n",
        "    <td>0.28</td>\n",
        "  </tr>\n",
        "  <tr>\n",
        "    <td>Supervised learning - SVC</td>\n",
        "    <td>0.85</td>\n",
        "    <td>0.36</td>\n",
        "  </tr>\n",
        "</table>\n"
      ],
      "metadata": {
        "id": "c4kr4fRiAurh"
      }
    },
    {
      "cell_type": "markdown",
      "source": [
        "<font color = 'blue'>\n",
        "We saw while doing the exploratory data analysis that the ratings were highly skewed with most of them being the extreme values of 1 and 5, while the values of 2, 3, and 4 were minimal. Thus, correctly predicting only 1 and 5 ratings would give a high accuracy. Hence, because of the skewed nature of the dataset, we decided to use F1 score besides the accuracy as our metric.<br>\n",
        "Based on the results of our models, we can state that none of our models did well with the intermediate ratings of 2,3, and 4, which were very low in numbers, as indicated by their low F1 scores. Moreover, hyper-parameter tuning also didn't help much with F1 score, although sometimes it helped with accuracy.<br>\n",
        "Finally, we note some recommendations that we may use to further improve the prediction ability:\n",
        "<ul>\n",
        "<li><font color = 'blue'>We used only the TF-IFD vectorizer. There are more sophisticated vectorizers and tokenizers abvailable that may provide boost in the F1 scores.</li>\n",
        "<li>There is a likelihood that our unsupervised learning methods aren't sophisticated enough for the current data, and we may need to approach more complicated deep learning methods or pretrained models on natural languages.</li>\n",
        "</ul>"
      ],
      "metadata": {
        "id": "OXdDlGJMHuS0"
      }
    }
  ]
}